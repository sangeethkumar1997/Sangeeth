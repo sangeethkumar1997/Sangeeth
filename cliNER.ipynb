{
  "nbformat": 4,
  "nbformat_minor": 0,
  "metadata": {
    "colab": {
      "name": "cliNER.ipynb",
      "provenance": []
    },
    "kernelspec": {
      "name": "python3",
      "display_name": "Python 3"
    }
  },
  "cells": [
    {
      "cell_type": "code",
      "metadata": {
        "id": "IG-iou6dtC0S",
        "colab": {
          "base_uri": "https://localhost:8080/"
        },
        "outputId": "3aa9547e-daba-443b-9ea9-9d98a5ed0bdb"
      },
      "source": [
        "!git clone https://github.com/text-machine-lab/CliNER.git"
      ],
      "execution_count": 1,
      "outputs": [
        {
          "output_type": "stream",
          "text": [
            "Cloning into 'CliNER'...\n",
            "remote: Enumerating objects: 9, done.\u001b[K\n",
            "remote: Counting objects: 100% (9/9), done.\u001b[K\n",
            "remote: Compressing objects: 100% (9/9), done.\u001b[K\n",
            "remote: Total 3900 (delta 1), reused 0 (delta 0), pack-reused 3891\u001b[K\n",
            "Receiving objects: 100% (3900/3900), 81.40 MiB | 31.37 MiB/s, done.\n",
            "Resolving deltas: 100% (2560/2560), done.\n"
          ],
          "name": "stdout"
        }
      ]
    },
    {
      "cell_type": "code",
      "metadata": {
        "id": "yB6N_xzJuVqf",
        "colab": {
          "base_uri": "https://localhost:8080/"
        },
        "outputId": "1bd8e5b9-8aa3-4728-fa5f-fb644da1fa21"
      },
      "source": [
        "%cd CliNER/"
      ],
      "execution_count": 2,
      "outputs": [
        {
          "output_type": "stream",
          "text": [
            "/content/CliNER\n"
          ],
          "name": "stdout"
        }
      ]
    },
    {
      "cell_type": "code",
      "metadata": {
        "id": "XPfZMtDQtGmH",
        "colab": {
          "base_uri": "https://localhost:8080/"
        },
        "outputId": "1b3a4026-666e-4ff7-decc-3eb79cc33f17"
      },
      "source": [
        "pip install -r requirements.txt"
      ],
      "execution_count": 3,
      "outputs": [
        {
          "output_type": "stream",
          "text": [
            "Requirement already satisfied: nltk in /usr/local/lib/python3.6/dist-packages (from -r requirements.txt (line 1)) (3.2.5)\n",
            "Collecting python-crfsuite\n",
            "\u001b[?25l  Downloading https://files.pythonhosted.org/packages/95/99/869dde6dbf3e0d07a013c8eebfb0a3d30776334e0097f8432b631a9a3a19/python_crfsuite-0.9.7-cp36-cp36m-manylinux1_x86_64.whl (743kB)\n",
            "\u001b[K     |████████████████████████████████| 747kB 8.1MB/s \n",
            "\u001b[?25hRequirement already satisfied: numpy in /usr/local/lib/python3.6/dist-packages (from -r requirements.txt (line 3)) (1.19.5)\n",
            "Requirement already satisfied: scipy in /usr/local/lib/python3.6/dist-packages (from -r requirements.txt (line 4)) (1.4.1)\n",
            "Requirement already satisfied: scikit-learn in /usr/local/lib/python3.6/dist-packages (from -r requirements.txt (line 5)) (0.22.2.post1)\n",
            "Collecting marisa-trie\n",
            "\u001b[?25l  Downloading https://files.pythonhosted.org/packages/20/95/d23071d0992dabcb61c948fb118a90683193befc88c23e745b050a29e7db/marisa-trie-0.7.5.tar.gz (270kB)\n",
            "\u001b[K     |████████████████████████████████| 276kB 17.4MB/s \n",
            "\u001b[?25hCollecting repoze.lru\n",
            "  Downloading https://files.pythonhosted.org/packages/b0/30/6cc0c95f0b59ad4b3b9163bff7cdcf793cc96fac64cf398ff26271f5cf5e/repoze.lru-0.7-py3-none-any.whl\n",
            "Requirement already satisfied: six in /usr/local/lib/python3.6/dist-packages (from nltk->-r requirements.txt (line 1)) (1.15.0)\n",
            "Requirement already satisfied: joblib>=0.11 in /usr/local/lib/python3.6/dist-packages (from scikit-learn->-r requirements.txt (line 5)) (1.0.0)\n",
            "Building wheels for collected packages: marisa-trie\n",
            "  Building wheel for marisa-trie (setup.py) ... \u001b[?25l\u001b[?25hdone\n",
            "  Created wheel for marisa-trie: filename=marisa_trie-0.7.5-cp36-cp36m-linux_x86_64.whl size=862463 sha256=0c74d45d5ec36d9ddf93955cc35511547d2d0c88248f0d8ecc37ef9ade2b68b1\n",
            "  Stored in directory: /root/.cache/pip/wheels/45/24/79/022624fc914f0e559fe8a1141aaff1f9df810905a13fc75d57\n",
            "Successfully built marisa-trie\n",
            "Installing collected packages: python-crfsuite, marisa-trie, repoze.lru\n",
            "Successfully installed marisa-trie-0.7.5 python-crfsuite-0.9.7 repoze.lru-0.7\n"
          ],
          "name": "stdout"
        }
      ]
    },
    {
      "cell_type": "code",
      "metadata": {
        "id": "WtXvOIpVui2C",
        "colab": {
          "base_uri": "https://localhost:8080/"
        },
        "outputId": "77351c09-cf64-432b-8a67-5af792444efa"
      },
      "source": [
        "! wget http://text-machine.cs.uml.edu/cliner/models/silver.crf\n",
        "\n",
        "! mv silver.crf models/silver.crf"
      ],
      "execution_count": 4,
      "outputs": [
        {
          "output_type": "stream",
          "text": [
            "--2021-02-10 14:23:35--  http://text-machine.cs.uml.edu/cliner/models/silver.crf\n",
            "Resolving text-machine.cs.uml.edu (text-machine.cs.uml.edu)... 146.189.182.142\n",
            "Connecting to text-machine.cs.uml.edu (text-machine.cs.uml.edu)|146.189.182.142|:80... connected.\n",
            "HTTP request sent, awaiting response... 200 OK\n",
            "Length: 129956975 (124M)\n",
            "Saving to: ‘silver.crf’\n",
            "\n",
            "silver.crf          100%[===================>] 123.94M  11.6MB/s    in 18s     \n",
            "\n",
            "2021-02-10 14:23:53 (6.97 MB/s) - ‘silver.crf’ saved [129956975/129956975]\n",
            "\n"
          ],
          "name": "stdout"
        }
      ]
    },
    {
      "cell_type": "code",
      "metadata": {
        "id": "Dc1kNkogu2Bm",
        "colab": {
          "base_uri": "https://localhost:8080/"
        },
        "outputId": "0165c921-5e30-4061-8cd5-8f030a12a1ed"
      },
      "source": [
        "!python cliner predict --txt data/examples/sample.txt --out data/predictions --model models/silver.crf --format i2b2"
      ],
      "execution_count": 8,
      "outputs": [
        {
          "output_type": "stream",
          "text": [
            "/usr/local/lib/python3.6/dist-packages/sklearn/utils/deprecation.py:144: FutureWarning: The sklearn.feature_extraction.dict_vectorizer module is  deprecated in version 0.22 and will be removed in version 0.24. The corresponding classes / functions should instead be imported from sklearn.feature_extraction. Anything that cannot be imported from sklearn.feature_extraction is now part of the private API.\n",
            "  warnings.warn(message, FutureWarning)\n",
            "/usr/local/lib/python3.6/dist-packages/sklearn/base.py:318: UserWarning: Trying to unpickle estimator DictVectorizer from version 0.19.1 when using version 0.22.2.post1. This might lead to breaking code or invalid results. Use at your own risk.\n",
            "  UserWarning)\n",
            "\tWARNING: prediction file already exists (data/predictions/sample.con)\n",
            "------------------------------\n",
            "\n",
            "\t1 of 1\n",
            "\tdata/examples/sample.txt\n",
            "\n",
            "\tvectorizing words all\n",
            "\tpredicting  labels all\n",
            "\n",
            "\n",
            "writing to: data/predictions/sample.con\n",
            "\n"
          ],
          "name": "stdout"
        }
      ]
    },
    {
      "cell_type": "code",
      "metadata": {
        "id": "wV3yFHgOvdTy"
      },
      "source": [
        ""
      ],
      "execution_count": null,
      "outputs": []
    }
  ]
}